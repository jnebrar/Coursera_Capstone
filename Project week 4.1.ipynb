{
 "cells": [
  {
   "cell_type": "raw",
   "metadata": {},
   "source": [
    "Problem Statement\n",
    "\n",
    "I am going to discuss the problem that I want to point out and their possible solutions. One of my friends want to open a restaurant in Newyork but he is very confused about location. So this project will help him to choose the location. As we can easily notice that there are lot of good running restaurants here, but also there are many which are not doing well and going to shutdown today or tommorow. You would be thinking these restaurants might not have good quality of food, services, affordable price in the menu or ambience which are letting it to shutdown.True for some cases but not always.One main reason behind it is the location. There are many restaurants having all good features like good food, services and all but due to its bad location they are shutting down. So, what I am trying to convey is, with all other factors one should must think about location where he/she is opening a restaurant. But how how to know the perfect location?. Datascience can help in this. For example, if someone wants to open a restaurant in Bronx borough of Newyork then data science can help them to say the perfect location for their restaurant with good amount of analysis using location data and other factors. So using location data we can analyze different restaurant in the Bronx and can form cluster according to their similatities. After that we can find average rating of each cluster and can suggest the right place by keeping price and all in the mind."
   ]
  },
  {
   "cell_type": "raw",
   "metadata": {},
   "source": [
    "2. Data\n",
    "\n",
    "For this project I will use the following data :\n",
    "\n",
    "1)New York City data that contains list Boroughs, Neighborhoods along with their latitude and longitude. Data source : https://cocl.us/new_york_dataset\n",
    "\n",
    "2)Food Venue in the neighborhood of Newyork from foursquare API\n"
   ]
  },
  {
   "cell_type": "code",
   "execution_count": null,
   "metadata": {},
   "outputs": [],
   "source": [
    "3. Steps\n",
    "\n",
    "1) First find out all neighborhood of Newyork. \n",
    "2) For each neigborhood analyze food restaurants with their ratings. \n",
    "3) Form cluster of restaurant and find mean rating of each cluster \n",
    "4) suggest place by analyzing the cluster."
   ]
  },
  {
   "cell_type": "code",
   "execution_count": null,
   "metadata": {},
   "outputs": [],
   "source": []
  },
  {
   "cell_type": "code",
   "execution_count": null,
   "metadata": {},
   "outputs": [],
   "source": []
  }
 ],
 "metadata": {
  "kernelspec": {
   "display_name": "Python",
   "language": "python",
   "name": "conda-env-python-py"
  },
  "language_info": {
   "codemirror_mode": {
    "name": "ipython",
    "version": 3
   },
   "file_extension": ".py",
   "mimetype": "text/x-python",
   "name": "python",
   "nbconvert_exporter": "python",
   "pygments_lexer": "ipython3",
   "version": "3.6.7"
  }
 },
 "nbformat": 4,
 "nbformat_minor": 4
}
